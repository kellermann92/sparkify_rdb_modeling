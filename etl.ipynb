{
 "cells": [
  {
   "cell_type": "markdown",
   "metadata": {},
   "source": [
    "# ETL Processes\n",
    "Use this notebook to develop the ETL process for each of your tables before completing the `etl.py` file to load the whole datasets."
   ]
  },
  {
   "cell_type": "code",
   "execution_count": 1,
   "metadata": {
    "execution": {
     "iopub.status.idle": "2021-03-13T12:45:46.546439Z",
     "shell.execute_reply": "2021-03-13T12:45:46.545843Z",
     "shell.execute_reply.started": "2021-03-13T12:45:46.133197Z"
    }
   },
   "outputs": [],
   "source": [
    "import os\n",
    "import glob\n",
    "import psycopg2\n",
    "import pandas as pd\n",
    "from sql_queries import *\n",
    "from create_tables import create_tables, drop_tables"
   ]
  },
  {
   "cell_type": "code",
   "execution_count": 2,
   "metadata": {
    "execution": {
     "iopub.execute_input": "2021-03-13T12:45:46.547712Z",
     "iopub.status.busy": "2021-03-13T12:45:46.547489Z",
     "iopub.status.idle": "2021-03-13T12:45:46.558798Z",
     "shell.execute_reply": "2021-03-13T12:45:46.558168Z",
     "shell.execute_reply.started": "2021-03-13T12:45:46.547682Z"
    }
   },
   "outputs": [],
   "source": [
    "conn = psycopg2.connect(\"host=127.0.0.1 dbname=sparkifydb user=student password=student\")\n",
    "cur = conn.cursor()"
   ]
  },
  {
   "cell_type": "code",
   "execution_count": 3,
   "metadata": {
    "execution": {
     "iopub.execute_input": "2021-03-13T12:45:46.562780Z",
     "iopub.status.busy": "2021-03-13T12:45:46.562551Z",
     "iopub.status.idle": "2021-03-13T12:45:46.566857Z",
     "shell.execute_reply": "2021-03-13T12:45:46.566183Z",
     "shell.execute_reply.started": "2021-03-13T12:45:46.562751Z"
    }
   },
   "outputs": [],
   "source": [
    "def get_files(filepath):\n",
    "    all_files = []\n",
    "    for root, dirs, files in os.walk(filepath):\n",
    "        files = glob.glob(os.path.join(root,'*.json'))\n",
    "        for f in files :\n",
    "            all_files.append(os.path.abspath(f))\n",
    "    \n",
    "    return all_files"
   ]
  },
  {
   "cell_type": "code",
   "execution_count": 4,
   "metadata": {
    "execution": {
     "iopub.execute_input": "2021-03-13T12:45:46.568056Z",
     "iopub.status.busy": "2021-03-13T12:45:46.567824Z",
     "iopub.status.idle": "2021-03-13T12:45:46.656495Z",
     "shell.execute_reply": "2021-03-13T12:45:46.654426Z",
     "shell.execute_reply.started": "2021-03-13T12:45:46.568029Z"
    }
   },
   "outputs": [],
   "source": [
    "# Drop first:\n",
    "drop_tables(cur, conn)\n",
    "\n",
    "# Create tables:\n",
    "create_tables(cur, conn)"
   ]
  },
  {
   "cell_type": "markdown",
   "metadata": {},
   "source": [
    "# Process `song_data`\n",
    "In this first part, you'll perform ETL on the first dataset, `song_data`, to create the `songs` and `artists` dimensional tables.\n",
    "\n",
    "Let's perform ETL on a single song file and load a single record into each table to start.\n",
    "- Use the `get_files` function provided above to get a list of all song JSON files in `data/song_data`\n",
    "- Select the first song in this list\n",
    "- Read the song file and view the data"
   ]
  },
  {
   "cell_type": "code",
   "execution_count": 5,
   "metadata": {
    "execution": {
     "iopub.execute_input": "2021-03-13T12:45:46.659547Z",
     "iopub.status.busy": "2021-03-13T12:45:46.658682Z",
     "iopub.status.idle": "2021-03-13T12:45:46.672115Z",
     "shell.execute_reply": "2021-03-13T12:45:46.670477Z",
     "shell.execute_reply.started": "2021-03-13T12:45:46.659374Z"
    }
   },
   "outputs": [],
   "source": [
    "song_files = get_files('data/song_data')"
   ]
  },
  {
   "cell_type": "code",
   "execution_count": 6,
   "metadata": {
    "execution": {
     "iopub.execute_input": "2021-03-13T12:45:46.676652Z",
     "iopub.status.busy": "2021-03-13T12:45:46.675886Z",
     "iopub.status.idle": "2021-03-13T12:45:46.684136Z",
     "shell.execute_reply": "2021-03-13T12:45:46.682148Z",
     "shell.execute_reply.started": "2021-03-13T12:45:46.676527Z"
    }
   },
   "outputs": [],
   "source": [
    "filepath = song_files[0]"
   ]
  },
  {
   "cell_type": "code",
   "execution_count": 7,
   "metadata": {
    "execution": {
     "iopub.execute_input": "2021-03-13T12:45:46.692131Z",
     "iopub.status.busy": "2021-03-13T12:45:46.690519Z",
     "iopub.status.idle": "2021-03-13T12:45:46.792748Z",
     "shell.execute_reply": "2021-03-13T12:45:46.791741Z",
     "shell.execute_reply.started": "2021-03-13T12:45:46.692044Z"
    }
   },
   "outputs": [
    {
     "data": {
      "text/html": [
       "<div>\n",
       "<style scoped>\n",
       "    .dataframe tbody tr th:only-of-type {\n",
       "        vertical-align: middle;\n",
       "    }\n",
       "\n",
       "    .dataframe tbody tr th {\n",
       "        vertical-align: top;\n",
       "    }\n",
       "\n",
       "    .dataframe thead th {\n",
       "        text-align: right;\n",
       "    }\n",
       "</style>\n",
       "<table border=\"1\" class=\"dataframe\">\n",
       "  <thead>\n",
       "    <tr style=\"text-align: right;\">\n",
       "      <th></th>\n",
       "      <th>num_songs</th>\n",
       "      <th>artist_id</th>\n",
       "      <th>artist_latitude</th>\n",
       "      <th>artist_longitude</th>\n",
       "      <th>artist_location</th>\n",
       "      <th>artist_name</th>\n",
       "      <th>song_id</th>\n",
       "      <th>title</th>\n",
       "      <th>duration</th>\n",
       "      <th>year</th>\n",
       "    </tr>\n",
       "  </thead>\n",
       "  <tbody>\n",
       "    <tr>\n",
       "      <th>0</th>\n",
       "      <td>1</td>\n",
       "      <td>ARD0S291187B9B7BF5</td>\n",
       "      <td>NaN</td>\n",
       "      <td>NaN</td>\n",
       "      <td>Ohio</td>\n",
       "      <td>Rated R</td>\n",
       "      <td>SOMJBYD12A6D4F8557</td>\n",
       "      <td>Keepin It Real (Skit)</td>\n",
       "      <td>114.78159</td>\n",
       "      <td>0</td>\n",
       "    </tr>\n",
       "  </tbody>\n",
       "</table>\n",
       "</div>"
      ],
      "text/plain": [
       "   num_songs           artist_id  artist_latitude  artist_longitude  \\\n",
       "0          1  ARD0S291187B9B7BF5              NaN               NaN   \n",
       "\n",
       "  artist_location artist_name             song_id                  title  \\\n",
       "0            Ohio     Rated R  SOMJBYD12A6D4F8557  Keepin It Real (Skit)   \n",
       "\n",
       "    duration  year  \n",
       "0  114.78159     0  "
      ]
     },
     "execution_count": 7,
     "metadata": {},
     "output_type": "execute_result"
    }
   ],
   "source": [
    "df = pd.read_json(filepath, lines = True)\n",
    "df.head()"
   ]
  },
  {
   "cell_type": "markdown",
   "metadata": {},
   "source": [
    "## #1: `songs` Table\n",
    "#### Extract Data for Songs Table\n",
    "- Select columns for song ID, title, artist ID, year, and duration\n",
    "- Use `df.values` to select just the values from the dataframe\n",
    "- Index to select the first (only) record in the dataframe\n",
    "- Convert the array to a list and set it to `song_data`"
   ]
  },
  {
   "cell_type": "code",
   "execution_count": 8,
   "metadata": {
    "execution": {
     "iopub.execute_input": "2021-03-13T12:45:46.797335Z",
     "iopub.status.busy": "2021-03-13T12:45:46.797017Z",
     "iopub.status.idle": "2021-03-13T12:45:46.812925Z",
     "shell.execute_reply": "2021-03-13T12:45:46.810606Z",
     "shell.execute_reply.started": "2021-03-13T12:45:46.797301Z"
    }
   },
   "outputs": [
    {
     "data": {
      "text/plain": [
       "array(['SOMJBYD12A6D4F8557', 'Keepin It Real (Skit)',\n",
       "       'ARD0S291187B9B7BF5', 0, 114.78159], dtype=object)"
      ]
     },
     "execution_count": 8,
     "metadata": {},
     "output_type": "execute_result"
    }
   ],
   "source": [
    "song_data = df[['song_id','title','artist_id','year', 'duration']].values[0]\n",
    "song_data"
   ]
  },
  {
   "cell_type": "markdown",
   "metadata": {},
   "source": [
    "#### Insert Record into Song Table\n",
    "Implement the `song_table_insert` query in `sql_queries.py` and run the cell below to insert a record for this song into the `songs` table. Remember to run `create_tables.py` before running the cell below to ensure you've created/resetted the `songs` table in the sparkify database."
   ]
  },
  {
   "cell_type": "code",
   "execution_count": 9,
   "metadata": {
    "execution": {
     "iopub.execute_input": "2021-03-13T12:45:46.817939Z",
     "iopub.status.busy": "2021-03-13T12:45:46.817269Z",
     "iopub.status.idle": "2021-03-13T12:45:46.835097Z",
     "shell.execute_reply": "2021-03-13T12:45:46.831416Z",
     "shell.execute_reply.started": "2021-03-13T12:45:46.817838Z"
    }
   },
   "outputs": [],
   "source": [
    "cur.execute(song_table_insert, song_data)\n",
    "conn.commit()"
   ]
  },
  {
   "cell_type": "markdown",
   "metadata": {},
   "source": [
    "Run `test.ipynb` to see if you've successfully added a record to this table."
   ]
  },
  {
   "cell_type": "markdown",
   "metadata": {},
   "source": [
    "## #2: `artists` Table\n",
    "#### Extract Data for Artists Table\n",
    "- Select columns for artist ID, name, location, latitude, and longitude\n",
    "- Use `df.values` to select just the values from the dataframe\n",
    "- Index to select the first (only) record in the dataframe\n",
    "- Convert the array to a list and set it to `artist_data`"
   ]
  },
  {
   "cell_type": "code",
   "execution_count": 10,
   "metadata": {
    "execution": {
     "iopub.execute_input": "2021-03-13T12:45:46.838549Z",
     "iopub.status.busy": "2021-03-13T12:45:46.836982Z",
     "iopub.status.idle": "2021-03-13T12:45:46.859375Z",
     "shell.execute_reply": "2021-03-13T12:45:46.858328Z",
     "shell.execute_reply.started": "2021-03-13T12:45:46.838433Z"
    }
   },
   "outputs": [
    {
     "data": {
      "text/plain": [
       "array(['ARD0S291187B9B7BF5', 'Rated R', 'Ohio', nan, nan], dtype=object)"
      ]
     },
     "execution_count": 10,
     "metadata": {},
     "output_type": "execute_result"
    }
   ],
   "source": [
    "artist_data = df[['artist_id', 'artist_name', 'artist_location', 'artist_longitude', 'artist_latitude']].values[0]\n",
    "artist_data"
   ]
  },
  {
   "cell_type": "markdown",
   "metadata": {},
   "source": [
    "#### Insert Record into Artist Table\n",
    "Implement the `artist_table_insert` query in `sql_queries.py` and run the cell below to insert a record for this song's artist into the `artists` table. Remember to run `create_tables.py` before running the cell below to ensure you've created/resetted the `artists` table in the sparkify database."
   ]
  },
  {
   "cell_type": "code",
   "execution_count": 11,
   "metadata": {
    "execution": {
     "iopub.execute_input": "2021-03-13T12:45:46.861209Z",
     "iopub.status.busy": "2021-03-13T12:45:46.860847Z",
     "iopub.status.idle": "2021-03-13T12:45:46.870920Z",
     "shell.execute_reply": "2021-03-13T12:45:46.869875Z",
     "shell.execute_reply.started": "2021-03-13T12:45:46.861169Z"
    }
   },
   "outputs": [],
   "source": [
    "cur.execute(artist_table_insert, artist_data)\n",
    "conn.commit()"
   ]
  },
  {
   "cell_type": "markdown",
   "metadata": {},
   "source": [
    "Run `test.ipynb` to see if you've successfully added a record to this table."
   ]
  },
  {
   "cell_type": "markdown",
   "metadata": {},
   "source": [
    "# Process `log_data`\n",
    "In this part, you'll perform ETL on the second dataset, `log_data`, to create the `time` and `users` dimensional tables, as well as the `songplays` fact table.\n",
    "\n",
    "Let's perform ETL on a single log file and load a single record into each table.\n",
    "- Use the `get_files` function provided above to get a list of all log JSON files in `data/log_data`\n",
    "- Select the first log file in this list\n",
    "- Read the log file and view the data"
   ]
  },
  {
   "cell_type": "code",
   "execution_count": 12,
   "metadata": {
    "execution": {
     "iopub.execute_input": "2021-03-13T12:45:46.872657Z",
     "iopub.status.busy": "2021-03-13T12:45:46.872220Z",
     "iopub.status.idle": "2021-03-13T12:45:46.880052Z",
     "shell.execute_reply": "2021-03-13T12:45:46.879061Z",
     "shell.execute_reply.started": "2021-03-13T12:45:46.872605Z"
    }
   },
   "outputs": [],
   "source": [
    "log_files = get_files('data/log_data')"
   ]
  },
  {
   "cell_type": "code",
   "execution_count": 13,
   "metadata": {
    "execution": {
     "iopub.execute_input": "2021-03-13T12:45:46.882627Z",
     "iopub.status.busy": "2021-03-13T12:45:46.881556Z",
     "iopub.status.idle": "2021-03-13T12:45:46.891522Z",
     "shell.execute_reply": "2021-03-13T12:45:46.889761Z",
     "shell.execute_reply.started": "2021-03-13T12:45:46.882515Z"
    }
   },
   "outputs": [],
   "source": [
    "filepath = log_files[0]"
   ]
  },
  {
   "cell_type": "code",
   "execution_count": 14,
   "metadata": {
    "execution": {
     "iopub.execute_input": "2021-03-13T12:45:46.893112Z",
     "iopub.status.busy": "2021-03-13T12:45:46.892816Z",
     "iopub.status.idle": "2021-03-13T12:45:46.951065Z",
     "shell.execute_reply": "2021-03-13T12:45:46.950166Z",
     "shell.execute_reply.started": "2021-03-13T12:45:46.893078Z"
    }
   },
   "outputs": [
    {
     "data": {
      "text/html": [
       "<div>\n",
       "<style scoped>\n",
       "    .dataframe tbody tr th:only-of-type {\n",
       "        vertical-align: middle;\n",
       "    }\n",
       "\n",
       "    .dataframe tbody tr th {\n",
       "        vertical-align: top;\n",
       "    }\n",
       "\n",
       "    .dataframe thead th {\n",
       "        text-align: right;\n",
       "    }\n",
       "</style>\n",
       "<table border=\"1\" class=\"dataframe\">\n",
       "  <thead>\n",
       "    <tr style=\"text-align: right;\">\n",
       "      <th></th>\n",
       "      <th>artist</th>\n",
       "      <th>auth</th>\n",
       "      <th>firstName</th>\n",
       "      <th>gender</th>\n",
       "      <th>itemInSession</th>\n",
       "      <th>lastName</th>\n",
       "      <th>length</th>\n",
       "      <th>level</th>\n",
       "      <th>location</th>\n",
       "      <th>method</th>\n",
       "      <th>page</th>\n",
       "      <th>registration</th>\n",
       "      <th>sessionId</th>\n",
       "      <th>song</th>\n",
       "      <th>status</th>\n",
       "      <th>ts</th>\n",
       "      <th>userAgent</th>\n",
       "      <th>userId</th>\n",
       "    </tr>\n",
       "  </thead>\n",
       "  <tbody>\n",
       "    <tr>\n",
       "      <th>0</th>\n",
       "      <td>Hoobastank</td>\n",
       "      <td>Logged In</td>\n",
       "      <td>Cierra</td>\n",
       "      <td>F</td>\n",
       "      <td>0</td>\n",
       "      <td>Finley</td>\n",
       "      <td>241.39710</td>\n",
       "      <td>free</td>\n",
       "      <td>Richmond, VA</td>\n",
       "      <td>PUT</td>\n",
       "      <td>NextSong</td>\n",
       "      <td>1541013292796</td>\n",
       "      <td>132</td>\n",
       "      <td>Say The Same</td>\n",
       "      <td>200</td>\n",
       "      <td>1541808927796</td>\n",
       "      <td>\"Mozilla/5.0 (Macintosh; Intel Mac OS X 10_9_4...</td>\n",
       "      <td>96</td>\n",
       "    </tr>\n",
       "    <tr>\n",
       "      <th>1</th>\n",
       "      <td>Mark Knopfler</td>\n",
       "      <td>Logged In</td>\n",
       "      <td>Cierra</td>\n",
       "      <td>F</td>\n",
       "      <td>1</td>\n",
       "      <td>Finley</td>\n",
       "      <td>249.31220</td>\n",
       "      <td>free</td>\n",
       "      <td>Richmond, VA</td>\n",
       "      <td>PUT</td>\n",
       "      <td>NextSong</td>\n",
       "      <td>1541013292796</td>\n",
       "      <td>132</td>\n",
       "      <td>Why Aye Man</td>\n",
       "      <td>200</td>\n",
       "      <td>1541809168796</td>\n",
       "      <td>\"Mozilla/5.0 (Macintosh; Intel Mac OS X 10_9_4...</td>\n",
       "      <td>96</td>\n",
       "    </tr>\n",
       "    <tr>\n",
       "      <th>2</th>\n",
       "      <td>Mogwai</td>\n",
       "      <td>Logged In</td>\n",
       "      <td>Cierra</td>\n",
       "      <td>F</td>\n",
       "      <td>2</td>\n",
       "      <td>Finley</td>\n",
       "      <td>341.28934</td>\n",
       "      <td>free</td>\n",
       "      <td>Richmond, VA</td>\n",
       "      <td>PUT</td>\n",
       "      <td>NextSong</td>\n",
       "      <td>1541013292796</td>\n",
       "      <td>132</td>\n",
       "      <td>We're No Here</td>\n",
       "      <td>200</td>\n",
       "      <td>1541809417796</td>\n",
       "      <td>\"Mozilla/5.0 (Macintosh; Intel Mac OS X 10_9_4...</td>\n",
       "      <td>96</td>\n",
       "    </tr>\n",
       "    <tr>\n",
       "      <th>3</th>\n",
       "      <td>The Casualties</td>\n",
       "      <td>Logged In</td>\n",
       "      <td>Cierra</td>\n",
       "      <td>F</td>\n",
       "      <td>3</td>\n",
       "      <td>Finley</td>\n",
       "      <td>181.49832</td>\n",
       "      <td>free</td>\n",
       "      <td>Richmond, VA</td>\n",
       "      <td>PUT</td>\n",
       "      <td>NextSong</td>\n",
       "      <td>1541013292796</td>\n",
       "      <td>132</td>\n",
       "      <td>Punx Unite</td>\n",
       "      <td>200</td>\n",
       "      <td>1541809758796</td>\n",
       "      <td>\"Mozilla/5.0 (Macintosh; Intel Mac OS X 10_9_4...</td>\n",
       "      <td>96</td>\n",
       "    </tr>\n",
       "    <tr>\n",
       "      <th>4</th>\n",
       "      <td>None</td>\n",
       "      <td>Logged In</td>\n",
       "      <td>Cecilia</td>\n",
       "      <td>F</td>\n",
       "      <td>0</td>\n",
       "      <td>Owens</td>\n",
       "      <td>NaN</td>\n",
       "      <td>free</td>\n",
       "      <td>Atlanta-Sandy Springs-Roswell, GA</td>\n",
       "      <td>GET</td>\n",
       "      <td>Home</td>\n",
       "      <td>1541032432796</td>\n",
       "      <td>424</td>\n",
       "      <td>None</td>\n",
       "      <td>200</td>\n",
       "      <td>1541813635796</td>\n",
       "      <td>Mozilla/5.0 (Windows NT 6.1; WOW64; rv:32.0) G...</td>\n",
       "      <td>6</td>\n",
       "    </tr>\n",
       "  </tbody>\n",
       "</table>\n",
       "</div>"
      ],
      "text/plain": [
       "           artist       auth firstName gender  itemInSession lastName  \\\n",
       "0      Hoobastank  Logged In    Cierra      F              0   Finley   \n",
       "1   Mark Knopfler  Logged In    Cierra      F              1   Finley   \n",
       "2          Mogwai  Logged In    Cierra      F              2   Finley   \n",
       "3  The Casualties  Logged In    Cierra      F              3   Finley   \n",
       "4            None  Logged In   Cecilia      F              0    Owens   \n",
       "\n",
       "      length level                           location method      page  \\\n",
       "0  241.39710  free                       Richmond, VA    PUT  NextSong   \n",
       "1  249.31220  free                       Richmond, VA    PUT  NextSong   \n",
       "2  341.28934  free                       Richmond, VA    PUT  NextSong   \n",
       "3  181.49832  free                       Richmond, VA    PUT  NextSong   \n",
       "4        NaN  free  Atlanta-Sandy Springs-Roswell, GA    GET      Home   \n",
       "\n",
       "    registration  sessionId           song  status             ts  \\\n",
       "0  1541013292796        132   Say The Same     200  1541808927796   \n",
       "1  1541013292796        132    Why Aye Man     200  1541809168796   \n",
       "2  1541013292796        132  We're No Here     200  1541809417796   \n",
       "3  1541013292796        132     Punx Unite     200  1541809758796   \n",
       "4  1541032432796        424           None     200  1541813635796   \n",
       "\n",
       "                                           userAgent  userId  \n",
       "0  \"Mozilla/5.0 (Macintosh; Intel Mac OS X 10_9_4...      96  \n",
       "1  \"Mozilla/5.0 (Macintosh; Intel Mac OS X 10_9_4...      96  \n",
       "2  \"Mozilla/5.0 (Macintosh; Intel Mac OS X 10_9_4...      96  \n",
       "3  \"Mozilla/5.0 (Macintosh; Intel Mac OS X 10_9_4...      96  \n",
       "4  Mozilla/5.0 (Windows NT 6.1; WOW64; rv:32.0) G...       6  "
      ]
     },
     "execution_count": 14,
     "metadata": {},
     "output_type": "execute_result"
    }
   ],
   "source": [
    "df = pd.read_json(filepath, lines = True)\n",
    "df.head()"
   ]
  },
  {
   "cell_type": "markdown",
   "metadata": {},
   "source": [
    "## #3: `time` Table\n",
    "#### Extract Data for Time Table\n",
    "- Filter records by `NextSong` action\n",
    "- Convert the `ts` timestamp column to datetime\n",
    "  - Hint: the current timestamp is in milliseconds\n",
    "- Extract the timestamp, hour, day, week of year, month, year, and weekday from the `ts` column and set `time_data` to a list containing these values in order\n",
    "  - Hint: use pandas' [`dt` attribute](https://pandas.pydata.org/pandas-docs/stable/reference/api/pandas.Series.dt.html) to access easily datetimelike properties.\n",
    "- Specify labels for these columns and set to `column_labels`\n",
    "- Create a dataframe, `time_df,` containing the time data for this file by combining `column_labels` and `time_data` into a dictionary and converting this into a dataframe"
   ]
  },
  {
   "cell_type": "code",
   "execution_count": 15,
   "metadata": {
    "execution": {
     "iopub.execute_input": "2021-03-13T12:45:46.952483Z",
     "iopub.status.busy": "2021-03-13T12:45:46.952247Z",
     "iopub.status.idle": "2021-03-13T12:45:46.986445Z",
     "shell.execute_reply": "2021-03-13T12:45:46.985064Z",
     "shell.execute_reply.started": "2021-03-13T12:45:46.952455Z"
    }
   },
   "outputs": [
    {
     "data": {
      "text/html": [
       "<div>\n",
       "<style scoped>\n",
       "    .dataframe tbody tr th:only-of-type {\n",
       "        vertical-align: middle;\n",
       "    }\n",
       "\n",
       "    .dataframe tbody tr th {\n",
       "        vertical-align: top;\n",
       "    }\n",
       "\n",
       "    .dataframe thead th {\n",
       "        text-align: right;\n",
       "    }\n",
       "</style>\n",
       "<table border=\"1\" class=\"dataframe\">\n",
       "  <thead>\n",
       "    <tr style=\"text-align: right;\">\n",
       "      <th></th>\n",
       "      <th>artist</th>\n",
       "      <th>auth</th>\n",
       "      <th>firstName</th>\n",
       "      <th>gender</th>\n",
       "      <th>itemInSession</th>\n",
       "      <th>lastName</th>\n",
       "      <th>length</th>\n",
       "      <th>level</th>\n",
       "      <th>location</th>\n",
       "      <th>method</th>\n",
       "      <th>page</th>\n",
       "      <th>registration</th>\n",
       "      <th>sessionId</th>\n",
       "      <th>song</th>\n",
       "      <th>status</th>\n",
       "      <th>ts</th>\n",
       "      <th>userAgent</th>\n",
       "      <th>userId</th>\n",
       "    </tr>\n",
       "  </thead>\n",
       "  <tbody>\n",
       "    <tr>\n",
       "      <th>0</th>\n",
       "      <td>Hoobastank</td>\n",
       "      <td>Logged In</td>\n",
       "      <td>Cierra</td>\n",
       "      <td>F</td>\n",
       "      <td>0</td>\n",
       "      <td>Finley</td>\n",
       "      <td>241.39710</td>\n",
       "      <td>free</td>\n",
       "      <td>Richmond, VA</td>\n",
       "      <td>PUT</td>\n",
       "      <td>NextSong</td>\n",
       "      <td>1541013292796</td>\n",
       "      <td>132</td>\n",
       "      <td>Say The Same</td>\n",
       "      <td>200</td>\n",
       "      <td>1541808927796</td>\n",
       "      <td>\"Mozilla/5.0 (Macintosh; Intel Mac OS X 10_9_4...</td>\n",
       "      <td>96</td>\n",
       "    </tr>\n",
       "    <tr>\n",
       "      <th>1</th>\n",
       "      <td>Mark Knopfler</td>\n",
       "      <td>Logged In</td>\n",
       "      <td>Cierra</td>\n",
       "      <td>F</td>\n",
       "      <td>1</td>\n",
       "      <td>Finley</td>\n",
       "      <td>249.31220</td>\n",
       "      <td>free</td>\n",
       "      <td>Richmond, VA</td>\n",
       "      <td>PUT</td>\n",
       "      <td>NextSong</td>\n",
       "      <td>1541013292796</td>\n",
       "      <td>132</td>\n",
       "      <td>Why Aye Man</td>\n",
       "      <td>200</td>\n",
       "      <td>1541809168796</td>\n",
       "      <td>\"Mozilla/5.0 (Macintosh; Intel Mac OS X 10_9_4...</td>\n",
       "      <td>96</td>\n",
       "    </tr>\n",
       "    <tr>\n",
       "      <th>2</th>\n",
       "      <td>Mogwai</td>\n",
       "      <td>Logged In</td>\n",
       "      <td>Cierra</td>\n",
       "      <td>F</td>\n",
       "      <td>2</td>\n",
       "      <td>Finley</td>\n",
       "      <td>341.28934</td>\n",
       "      <td>free</td>\n",
       "      <td>Richmond, VA</td>\n",
       "      <td>PUT</td>\n",
       "      <td>NextSong</td>\n",
       "      <td>1541013292796</td>\n",
       "      <td>132</td>\n",
       "      <td>We're No Here</td>\n",
       "      <td>200</td>\n",
       "      <td>1541809417796</td>\n",
       "      <td>\"Mozilla/5.0 (Macintosh; Intel Mac OS X 10_9_4...</td>\n",
       "      <td>96</td>\n",
       "    </tr>\n",
       "    <tr>\n",
       "      <th>3</th>\n",
       "      <td>The Casualties</td>\n",
       "      <td>Logged In</td>\n",
       "      <td>Cierra</td>\n",
       "      <td>F</td>\n",
       "      <td>3</td>\n",
       "      <td>Finley</td>\n",
       "      <td>181.49832</td>\n",
       "      <td>free</td>\n",
       "      <td>Richmond, VA</td>\n",
       "      <td>PUT</td>\n",
       "      <td>NextSong</td>\n",
       "      <td>1541013292796</td>\n",
       "      <td>132</td>\n",
       "      <td>Punx Unite</td>\n",
       "      <td>200</td>\n",
       "      <td>1541809758796</td>\n",
       "      <td>\"Mozilla/5.0 (Macintosh; Intel Mac OS X 10_9_4...</td>\n",
       "      <td>96</td>\n",
       "    </tr>\n",
       "    <tr>\n",
       "      <th>5</th>\n",
       "      <td>The Living End</td>\n",
       "      <td>Logged In</td>\n",
       "      <td>Ryan</td>\n",
       "      <td>M</td>\n",
       "      <td>0</td>\n",
       "      <td>Smith</td>\n",
       "      <td>188.62975</td>\n",
       "      <td>free</td>\n",
       "      <td>San Jose-Sunnyvale-Santa Clara, CA</td>\n",
       "      <td>PUT</td>\n",
       "      <td>NextSong</td>\n",
       "      <td>1541016707796</td>\n",
       "      <td>433</td>\n",
       "      <td>Roll On (Album Version)</td>\n",
       "      <td>200</td>\n",
       "      <td>1541822502796</td>\n",
       "      <td>\"Mozilla/5.0 (X11; Linux x86_64) AppleWebKit/5...</td>\n",
       "      <td>26</td>\n",
       "    </tr>\n",
       "  </tbody>\n",
       "</table>\n",
       "</div>"
      ],
      "text/plain": [
       "           artist       auth firstName gender  itemInSession lastName  \\\n",
       "0      Hoobastank  Logged In    Cierra      F              0   Finley   \n",
       "1   Mark Knopfler  Logged In    Cierra      F              1   Finley   \n",
       "2          Mogwai  Logged In    Cierra      F              2   Finley   \n",
       "3  The Casualties  Logged In    Cierra      F              3   Finley   \n",
       "5  The Living End  Logged In      Ryan      M              0    Smith   \n",
       "\n",
       "      length level                            location method      page  \\\n",
       "0  241.39710  free                        Richmond, VA    PUT  NextSong   \n",
       "1  249.31220  free                        Richmond, VA    PUT  NextSong   \n",
       "2  341.28934  free                        Richmond, VA    PUT  NextSong   \n",
       "3  181.49832  free                        Richmond, VA    PUT  NextSong   \n",
       "5  188.62975  free  San Jose-Sunnyvale-Santa Clara, CA    PUT  NextSong   \n",
       "\n",
       "    registration  sessionId                     song  status             ts  \\\n",
       "0  1541013292796        132             Say The Same     200  1541808927796   \n",
       "1  1541013292796        132              Why Aye Man     200  1541809168796   \n",
       "2  1541013292796        132            We're No Here     200  1541809417796   \n",
       "3  1541013292796        132               Punx Unite     200  1541809758796   \n",
       "5  1541016707796        433  Roll On (Album Version)     200  1541822502796   \n",
       "\n",
       "                                           userAgent  userId  \n",
       "0  \"Mozilla/5.0 (Macintosh; Intel Mac OS X 10_9_4...      96  \n",
       "1  \"Mozilla/5.0 (Macintosh; Intel Mac OS X 10_9_4...      96  \n",
       "2  \"Mozilla/5.0 (Macintosh; Intel Mac OS X 10_9_4...      96  \n",
       "3  \"Mozilla/5.0 (Macintosh; Intel Mac OS X 10_9_4...      96  \n",
       "5  \"Mozilla/5.0 (X11; Linux x86_64) AppleWebKit/5...      26  "
      ]
     },
     "execution_count": 15,
     "metadata": {},
     "output_type": "execute_result"
    }
   ],
   "source": [
    "# Get rows where page is NextSong\n",
    "df = df[df.page == 'NextSong']\n",
    "df.head()"
   ]
  },
  {
   "cell_type": "code",
   "execution_count": 16,
   "metadata": {
    "execution": {
     "iopub.execute_input": "2021-03-13T12:45:46.988673Z",
     "iopub.status.busy": "2021-03-13T12:45:46.988261Z",
     "iopub.status.idle": "2021-03-13T12:45:47.012597Z",
     "shell.execute_reply": "2021-03-13T12:45:47.011895Z",
     "shell.execute_reply.started": "2021-03-13T12:45:46.988638Z"
    }
   },
   "outputs": [
    {
     "data": {
      "text/html": [
       "<div>\n",
       "<style scoped>\n",
       "    .dataframe tbody tr th:only-of-type {\n",
       "        vertical-align: middle;\n",
       "    }\n",
       "\n",
       "    .dataframe tbody tr th {\n",
       "        vertical-align: top;\n",
       "    }\n",
       "\n",
       "    .dataframe thead th {\n",
       "        text-align: right;\n",
       "    }\n",
       "</style>\n",
       "<table border=\"1\" class=\"dataframe\">\n",
       "  <thead>\n",
       "    <tr style=\"text-align: right;\">\n",
       "      <th></th>\n",
       "      <th>ts</th>\n",
       "      <th>start_time</th>\n",
       "      <th>hour</th>\n",
       "      <th>day</th>\n",
       "      <th>week</th>\n",
       "      <th>month</th>\n",
       "      <th>year</th>\n",
       "      <th>week_day</th>\n",
       "    </tr>\n",
       "  </thead>\n",
       "  <tbody>\n",
       "    <tr>\n",
       "      <th>0</th>\n",
       "      <td>1541808927796</td>\n",
       "      <td>2018-11-10 00:15:27.796</td>\n",
       "      <td>0</td>\n",
       "      <td>10</td>\n",
       "      <td>45</td>\n",
       "      <td>11</td>\n",
       "      <td>2018</td>\n",
       "      <td>5</td>\n",
       "    </tr>\n",
       "    <tr>\n",
       "      <th>1</th>\n",
       "      <td>1541809168796</td>\n",
       "      <td>2018-11-10 00:19:28.796</td>\n",
       "      <td>0</td>\n",
       "      <td>10</td>\n",
       "      <td>45</td>\n",
       "      <td>11</td>\n",
       "      <td>2018</td>\n",
       "      <td>5</td>\n",
       "    </tr>\n",
       "    <tr>\n",
       "      <th>2</th>\n",
       "      <td>1541809417796</td>\n",
       "      <td>2018-11-10 00:23:37.796</td>\n",
       "      <td>0</td>\n",
       "      <td>10</td>\n",
       "      <td>45</td>\n",
       "      <td>11</td>\n",
       "      <td>2018</td>\n",
       "      <td>5</td>\n",
       "    </tr>\n",
       "    <tr>\n",
       "      <th>3</th>\n",
       "      <td>1541809758796</td>\n",
       "      <td>2018-11-10 00:29:18.796</td>\n",
       "      <td>0</td>\n",
       "      <td>10</td>\n",
       "      <td>45</td>\n",
       "      <td>11</td>\n",
       "      <td>2018</td>\n",
       "      <td>5</td>\n",
       "    </tr>\n",
       "    <tr>\n",
       "      <th>5</th>\n",
       "      <td>1541822502796</td>\n",
       "      <td>2018-11-10 04:01:42.796</td>\n",
       "      <td>4</td>\n",
       "      <td>10</td>\n",
       "      <td>45</td>\n",
       "      <td>11</td>\n",
       "      <td>2018</td>\n",
       "      <td>5</td>\n",
       "    </tr>\n",
       "  </tbody>\n",
       "</table>\n",
       "</div>"
      ],
      "text/plain": [
       "              ts              start_time  hour  day  week  month  year  \\\n",
       "0  1541808927796 2018-11-10 00:15:27.796     0   10    45     11  2018   \n",
       "1  1541809168796 2018-11-10 00:19:28.796     0   10    45     11  2018   \n",
       "2  1541809417796 2018-11-10 00:23:37.796     0   10    45     11  2018   \n",
       "3  1541809758796 2018-11-10 00:29:18.796     0   10    45     11  2018   \n",
       "5  1541822502796 2018-11-10 04:01:42.796     4   10    45     11  2018   \n",
       "\n",
       "   week_day  \n",
       "0         5  \n",
       "1         5  \n",
       "2         5  \n",
       "3         5  \n",
       "5         5  "
      ]
     },
     "execution_count": 16,
     "metadata": {},
     "output_type": "execute_result"
    }
   ],
   "source": [
    "time_df = pd.DataFrame(df['ts'])\n",
    "\n",
    "# Convert ts to datetime:\n",
    "time_df['start_time'] = pd.to_datetime(df['ts'], unit='ms')\n",
    "\n",
    "time_df['hour'], time_df['day'],time_df['week'],time_df['month'],time_df['year'],time_df['week_day'] = time_df.start_time.dt.hour,\\\n",
    "                                                                                                       time_df.start_time.dt.day,\\\n",
    "                                                                                                       time_df.start_time.dt.strftime('%V').astype(int),\\\n",
    "                                                                                                       time_df.start_time.dt.month,\\\n",
    "                                                                                                       time_df.start_time.dt.year,\\\n",
    "                                                                                                       time_df.start_time.dt.weekday\n",
    "\n",
    "\n",
    "\n",
    "\n",
    "\n",
    "\n",
    "time_df.head()"
   ]
  },
  {
   "cell_type": "markdown",
   "metadata": {},
   "source": [
    "#### Insert Records into Time Table\n",
    "Implement the `time_table_insert` query in `sql_queries.py` and run the cell below to insert records for the timestamps in this log file into the `time` table. Remember to run `create_tables.py` before running the cell below to ensure you've created/resetted the `time` table in the sparkify database."
   ]
  },
  {
   "cell_type": "code",
   "execution_count": 17,
   "metadata": {
    "execution": {
     "iopub.execute_input": "2021-03-13T12:45:47.013805Z",
     "iopub.status.busy": "2021-03-13T12:45:47.013580Z",
     "iopub.status.idle": "2021-03-13T12:45:47.092252Z",
     "shell.execute_reply": "2021-03-13T12:45:47.090807Z",
     "shell.execute_reply.started": "2021-03-13T12:45:47.013771Z"
    }
   },
   "outputs": [],
   "source": [
    "for i, row in time_df.iterrows():\n",
    "    cur.execute(time_table_insert, list(row))\n",
    "    conn.commit()"
   ]
  },
  {
   "cell_type": "markdown",
   "metadata": {},
   "source": [
    "Run `test.ipynb` to see if you've successfully added records to this table."
   ]
  },
  {
   "cell_type": "markdown",
   "metadata": {},
   "source": [
    "## #4: `users` Table\n",
    "#### Extract Data for Users Table\n",
    "- Select columns for user ID, first name, last name, gender and level and set to `user_df`"
   ]
  },
  {
   "cell_type": "code",
   "execution_count": 18,
   "metadata": {
    "execution": {
     "iopub.execute_input": "2021-03-13T12:45:47.094459Z",
     "iopub.status.busy": "2021-03-13T12:45:47.094029Z",
     "iopub.status.idle": "2021-03-13T12:45:47.127038Z",
     "shell.execute_reply": "2021-03-13T12:45:47.126095Z",
     "shell.execute_reply.started": "2021-03-13T12:45:47.094402Z"
    }
   },
   "outputs": [
    {
     "data": {
      "text/html": [
       "<div>\n",
       "<style scoped>\n",
       "    .dataframe tbody tr th:only-of-type {\n",
       "        vertical-align: middle;\n",
       "    }\n",
       "\n",
       "    .dataframe tbody tr th {\n",
       "        vertical-align: top;\n",
       "    }\n",
       "\n",
       "    .dataframe thead th {\n",
       "        text-align: right;\n",
       "    }\n",
       "</style>\n",
       "<table border=\"1\" class=\"dataframe\">\n",
       "  <thead>\n",
       "    <tr style=\"text-align: right;\">\n",
       "      <th></th>\n",
       "      <th>artist</th>\n",
       "      <th>auth</th>\n",
       "      <th>firstName</th>\n",
       "      <th>gender</th>\n",
       "      <th>itemInSession</th>\n",
       "      <th>lastName</th>\n",
       "      <th>length</th>\n",
       "      <th>level</th>\n",
       "      <th>location</th>\n",
       "      <th>method</th>\n",
       "      <th>page</th>\n",
       "      <th>registration</th>\n",
       "      <th>sessionId</th>\n",
       "      <th>song</th>\n",
       "      <th>status</th>\n",
       "      <th>ts</th>\n",
       "      <th>userAgent</th>\n",
       "      <th>userId</th>\n",
       "    </tr>\n",
       "  </thead>\n",
       "  <tbody>\n",
       "    <tr>\n",
       "      <th>0</th>\n",
       "      <td>Hoobastank</td>\n",
       "      <td>Logged In</td>\n",
       "      <td>Cierra</td>\n",
       "      <td>F</td>\n",
       "      <td>0</td>\n",
       "      <td>Finley</td>\n",
       "      <td>241.39710</td>\n",
       "      <td>free</td>\n",
       "      <td>Richmond, VA</td>\n",
       "      <td>PUT</td>\n",
       "      <td>NextSong</td>\n",
       "      <td>1541013292796</td>\n",
       "      <td>132</td>\n",
       "      <td>Say The Same</td>\n",
       "      <td>200</td>\n",
       "      <td>1541808927796</td>\n",
       "      <td>\"Mozilla/5.0 (Macintosh; Intel Mac OS X 10_9_4...</td>\n",
       "      <td>96</td>\n",
       "    </tr>\n",
       "    <tr>\n",
       "      <th>1</th>\n",
       "      <td>Mark Knopfler</td>\n",
       "      <td>Logged In</td>\n",
       "      <td>Cierra</td>\n",
       "      <td>F</td>\n",
       "      <td>1</td>\n",
       "      <td>Finley</td>\n",
       "      <td>249.31220</td>\n",
       "      <td>free</td>\n",
       "      <td>Richmond, VA</td>\n",
       "      <td>PUT</td>\n",
       "      <td>NextSong</td>\n",
       "      <td>1541013292796</td>\n",
       "      <td>132</td>\n",
       "      <td>Why Aye Man</td>\n",
       "      <td>200</td>\n",
       "      <td>1541809168796</td>\n",
       "      <td>\"Mozilla/5.0 (Macintosh; Intel Mac OS X 10_9_4...</td>\n",
       "      <td>96</td>\n",
       "    </tr>\n",
       "    <tr>\n",
       "      <th>2</th>\n",
       "      <td>Mogwai</td>\n",
       "      <td>Logged In</td>\n",
       "      <td>Cierra</td>\n",
       "      <td>F</td>\n",
       "      <td>2</td>\n",
       "      <td>Finley</td>\n",
       "      <td>341.28934</td>\n",
       "      <td>free</td>\n",
       "      <td>Richmond, VA</td>\n",
       "      <td>PUT</td>\n",
       "      <td>NextSong</td>\n",
       "      <td>1541013292796</td>\n",
       "      <td>132</td>\n",
       "      <td>We're No Here</td>\n",
       "      <td>200</td>\n",
       "      <td>1541809417796</td>\n",
       "      <td>\"Mozilla/5.0 (Macintosh; Intel Mac OS X 10_9_4...</td>\n",
       "      <td>96</td>\n",
       "    </tr>\n",
       "    <tr>\n",
       "      <th>3</th>\n",
       "      <td>The Casualties</td>\n",
       "      <td>Logged In</td>\n",
       "      <td>Cierra</td>\n",
       "      <td>F</td>\n",
       "      <td>3</td>\n",
       "      <td>Finley</td>\n",
       "      <td>181.49832</td>\n",
       "      <td>free</td>\n",
       "      <td>Richmond, VA</td>\n",
       "      <td>PUT</td>\n",
       "      <td>NextSong</td>\n",
       "      <td>1541013292796</td>\n",
       "      <td>132</td>\n",
       "      <td>Punx Unite</td>\n",
       "      <td>200</td>\n",
       "      <td>1541809758796</td>\n",
       "      <td>\"Mozilla/5.0 (Macintosh; Intel Mac OS X 10_9_4...</td>\n",
       "      <td>96</td>\n",
       "    </tr>\n",
       "    <tr>\n",
       "      <th>5</th>\n",
       "      <td>The Living End</td>\n",
       "      <td>Logged In</td>\n",
       "      <td>Ryan</td>\n",
       "      <td>M</td>\n",
       "      <td>0</td>\n",
       "      <td>Smith</td>\n",
       "      <td>188.62975</td>\n",
       "      <td>free</td>\n",
       "      <td>San Jose-Sunnyvale-Santa Clara, CA</td>\n",
       "      <td>PUT</td>\n",
       "      <td>NextSong</td>\n",
       "      <td>1541016707796</td>\n",
       "      <td>433</td>\n",
       "      <td>Roll On (Album Version)</td>\n",
       "      <td>200</td>\n",
       "      <td>1541822502796</td>\n",
       "      <td>\"Mozilla/5.0 (X11; Linux x86_64) AppleWebKit/5...</td>\n",
       "      <td>26</td>\n",
       "    </tr>\n",
       "  </tbody>\n",
       "</table>\n",
       "</div>"
      ],
      "text/plain": [
       "           artist       auth firstName gender  itemInSession lastName  \\\n",
       "0      Hoobastank  Logged In    Cierra      F              0   Finley   \n",
       "1   Mark Knopfler  Logged In    Cierra      F              1   Finley   \n",
       "2          Mogwai  Logged In    Cierra      F              2   Finley   \n",
       "3  The Casualties  Logged In    Cierra      F              3   Finley   \n",
       "5  The Living End  Logged In      Ryan      M              0    Smith   \n",
       "\n",
       "      length level                            location method      page  \\\n",
       "0  241.39710  free                        Richmond, VA    PUT  NextSong   \n",
       "1  249.31220  free                        Richmond, VA    PUT  NextSong   \n",
       "2  341.28934  free                        Richmond, VA    PUT  NextSong   \n",
       "3  181.49832  free                        Richmond, VA    PUT  NextSong   \n",
       "5  188.62975  free  San Jose-Sunnyvale-Santa Clara, CA    PUT  NextSong   \n",
       "\n",
       "    registration  sessionId                     song  status             ts  \\\n",
       "0  1541013292796        132             Say The Same     200  1541808927796   \n",
       "1  1541013292796        132              Why Aye Man     200  1541809168796   \n",
       "2  1541013292796        132            We're No Here     200  1541809417796   \n",
       "3  1541013292796        132               Punx Unite     200  1541809758796   \n",
       "5  1541016707796        433  Roll On (Album Version)     200  1541822502796   \n",
       "\n",
       "                                           userAgent  userId  \n",
       "0  \"Mozilla/5.0 (Macintosh; Intel Mac OS X 10_9_4...      96  \n",
       "1  \"Mozilla/5.0 (Macintosh; Intel Mac OS X 10_9_4...      96  \n",
       "2  \"Mozilla/5.0 (Macintosh; Intel Mac OS X 10_9_4...      96  \n",
       "3  \"Mozilla/5.0 (Macintosh; Intel Mac OS X 10_9_4...      96  \n",
       "5  \"Mozilla/5.0 (X11; Linux x86_64) AppleWebKit/5...      26  "
      ]
     },
     "execution_count": 18,
     "metadata": {},
     "output_type": "execute_result"
    }
   ],
   "source": [
    "df.head()"
   ]
  },
  {
   "cell_type": "code",
   "execution_count": 19,
   "metadata": {
    "execution": {
     "iopub.execute_input": "2021-03-13T12:45:47.129460Z",
     "iopub.status.busy": "2021-03-13T12:45:47.128855Z",
     "iopub.status.idle": "2021-03-13T12:45:47.137040Z",
     "shell.execute_reply": "2021-03-13T12:45:47.134975Z",
     "shell.execute_reply.started": "2021-03-13T12:45:47.129415Z"
    }
   },
   "outputs": [],
   "source": [
    "user_df = df[['userId','firstName', 'lastName', 'gender', 'level']]"
   ]
  },
  {
   "cell_type": "markdown",
   "metadata": {},
   "source": [
    "#### Insert Records into Users Table\n",
    "Implement the `user_table_insert` query in `sql_queries.py` and run the cell below to insert records for the users in this log file into the `users` table. Remember to run `create_tables.py` before running the cell below to ensure you've created/resetted the `users` table in the sparkify database."
   ]
  },
  {
   "cell_type": "code",
   "execution_count": 20,
   "metadata": {
    "execution": {
     "iopub.execute_input": "2021-03-13T12:45:47.139858Z",
     "iopub.status.busy": "2021-03-13T12:45:47.139427Z",
     "iopub.status.idle": "2021-03-13T12:45:47.344933Z",
     "shell.execute_reply": "2021-03-13T12:45:47.342158Z",
     "shell.execute_reply.started": "2021-03-13T12:45:47.139801Z"
    }
   },
   "outputs": [],
   "source": [
    "for i, row in user_df.iterrows():\n",
    "    cur.execute(user_table_insert, row)\n",
    "    conn.commit()"
   ]
  },
  {
   "cell_type": "markdown",
   "metadata": {},
   "source": [
    "Run `test.ipynb` to see if you've successfully added records to this table."
   ]
  },
  {
   "cell_type": "markdown",
   "metadata": {},
   "source": [
    "## #5: `songplays` Table\n",
    "#### Extract Data and Songplays Table\n",
    "This one is a little more complicated since information from the songs table, artists table, and original log file are all needed for the `songplays` table. Since the log file does not specify an ID for either the song or the artist, you'll need to get the song ID and artist ID by querying the songs and artists tables to find matches based on song title, artist name, and song duration time.\n",
    "- Implement the `song_select` query in `sql_queries.py` to find the song ID and artist ID based on the title, artist name, and duration of a song.\n",
    "- Select the timestamp, user ID, level, song ID, artist ID, session ID, location, and user agent and set to `songplay_data`\n",
    "\n",
    "#### Insert Records into Songplays Table\n",
    "- Implement the `songplay_table_insert` query and run the cell below to insert records for the songplay actions in this log file into the `songplays` table. Remember to run `create_tables.py` before running the cell below to ensure you've created/resetted the `songplays` table in the sparkify database."
   ]
  },
  {
   "cell_type": "code",
   "execution_count": 21,
   "metadata": {
    "execution": {
     "iopub.execute_input": "2021-03-13T12:45:47.352153Z",
     "iopub.status.busy": "2021-03-13T12:45:47.350802Z",
     "iopub.status.idle": "2021-03-13T12:45:47.829681Z",
     "shell.execute_reply": "2021-03-13T12:45:47.828814Z",
     "shell.execute_reply.started": "2021-03-13T12:45:47.352034Z"
    }
   },
   "outputs": [
    {
     "name": "stdout",
     "output_type": "stream",
     "text": [
      "results: None\n",
      "(0, Timestamp('2018-11-10 00:15:27.796000'), 96, 'free', None, None, 132, 'Richmond, VA', '\"Mozilla/5.0 (Macintosh; Intel Mac OS X 10_9_4) AppleWebKit/537.77.4 (KHTML, like Gecko) Version/7.0.5 Safari/537.77.4\"')\n",
      "results: None\n",
      "(1, Timestamp('2018-11-10 00:19:28.796000'), 96, 'free', None, None, 132, 'Richmond, VA', '\"Mozilla/5.0 (Macintosh; Intel Mac OS X 10_9_4) AppleWebKit/537.77.4 (KHTML, like Gecko) Version/7.0.5 Safari/537.77.4\"')\n",
      "results: None\n",
      "(2, Timestamp('2018-11-10 00:23:37.796000'), 96, 'free', None, None, 132, 'Richmond, VA', '\"Mozilla/5.0 (Macintosh; Intel Mac OS X 10_9_4) AppleWebKit/537.77.4 (KHTML, like Gecko) Version/7.0.5 Safari/537.77.4\"')\n",
      "results: None\n",
      "(3, Timestamp('2018-11-10 00:29:18.796000'), 96, 'free', None, None, 132, 'Richmond, VA', '\"Mozilla/5.0 (Macintosh; Intel Mac OS X 10_9_4) AppleWebKit/537.77.4 (KHTML, like Gecko) Version/7.0.5 Safari/537.77.4\"')\n",
      "results: None\n",
      "(5, Timestamp('2018-11-10 04:01:42.796000'), 26, 'free', None, None, 433, 'San Jose-Sunnyvale-Santa Clara, CA', '\"Mozilla/5.0 (X11; Linux x86_64) AppleWebKit/537.36 (KHTML, like Gecko) Ubuntu Chromium/36.0.1985.125 Chrome/36.0.1985.125 Safari/537.36\"')\n",
      "results: None\n",
      "(6, Timestamp('2018-11-10 06:01:49.796000'), 16, 'free', None, None, 402, 'Birmingham-Hoover, AL', '\"Mozilla/5.0 (Macintosh; Intel Mac OS X 10_9_4) AppleWebKit/537.77.4 (KHTML, like Gecko) Version/7.0.5 Safari/537.77.4\"')\n",
      "results: None\n",
      "(7, Timestamp('2018-11-10 06:05:53.796000'), 16, 'free', None, None, 402, 'Birmingham-Hoover, AL', '\"Mozilla/5.0 (Macintosh; Intel Mac OS X 10_9_4) AppleWebKit/537.77.4 (KHTML, like Gecko) Version/7.0.5 Safari/537.77.4\"')\n",
      "results: None\n",
      "(8, Timestamp('2018-11-10 07:34:18.796000'), 44, 'paid', None, None, 350, 'Waterloo-Cedar Falls, IA', 'Mozilla/5.0 (Macintosh; Intel Mac OS X 10.9; rv:31.0) Gecko/20100101 Firefox/31.0')\n",
      "results: None\n",
      "(9, Timestamp('2018-11-10 07:40:11.796000'), 44, 'paid', None, None, 350, 'Waterloo-Cedar Falls, IA', 'Mozilla/5.0 (Macintosh; Intel Mac OS X 10.9; rv:31.0) Gecko/20100101 Firefox/31.0')\n",
      "results: None\n",
      "(10, Timestamp('2018-11-10 07:43:34.796000'), 44, 'paid', None, None, 350, 'Waterloo-Cedar Falls, IA', 'Mozilla/5.0 (Macintosh; Intel Mac OS X 10.9; rv:31.0) Gecko/20100101 Firefox/31.0')\n",
      "results: None\n",
      "(11, Timestamp('2018-11-10 07:47:51.796000'), 44, 'paid', None, None, 350, 'Waterloo-Cedar Falls, IA', 'Mozilla/5.0 (Macintosh; Intel Mac OS X 10.9; rv:31.0) Gecko/20100101 Firefox/31.0')\n",
      "results: None\n",
      "(12, Timestamp('2018-11-10 07:52:24.796000'), 44, 'paid', None, None, 350, 'Waterloo-Cedar Falls, IA', 'Mozilla/5.0 (Macintosh; Intel Mac OS X 10.9; rv:31.0) Gecko/20100101 Firefox/31.0')\n",
      "results: None\n",
      "(13, Timestamp('2018-11-10 07:56:47.796000'), 44, 'paid', None, None, 350, 'Waterloo-Cedar Falls, IA', 'Mozilla/5.0 (Macintosh; Intel Mac OS X 10.9; rv:31.0) Gecko/20100101 Firefox/31.0')\n",
      "results: None\n",
      "(14, Timestamp('2018-11-10 08:00:27.796000'), 44, 'paid', None, None, 350, 'Waterloo-Cedar Falls, IA', 'Mozilla/5.0 (Macintosh; Intel Mac OS X 10.9; rv:31.0) Gecko/20100101 Firefox/31.0')\n",
      "results: None\n",
      "(15, Timestamp('2018-11-10 08:03:26.796000'), 44, 'paid', None, None, 350, 'Waterloo-Cedar Falls, IA', 'Mozilla/5.0 (Macintosh; Intel Mac OS X 10.9; rv:31.0) Gecko/20100101 Firefox/31.0')\n",
      "results: None\n",
      "(16, Timestamp('2018-11-10 08:06:59.796000'), 44, 'paid', None, None, 350, 'Waterloo-Cedar Falls, IA', 'Mozilla/5.0 (Macintosh; Intel Mac OS X 10.9; rv:31.0) Gecko/20100101 Firefox/31.0')\n",
      "results: None\n",
      "(17, Timestamp('2018-11-10 08:09:20.796000'), 44, 'paid', None, None, 350, 'Waterloo-Cedar Falls, IA', 'Mozilla/5.0 (Macintosh; Intel Mac OS X 10.9; rv:31.0) Gecko/20100101 Firefox/31.0')\n",
      "results: None\n",
      "(18, Timestamp('2018-11-10 08:12:43.796000'), 44, 'paid', None, None, 350, 'Waterloo-Cedar Falls, IA', 'Mozilla/5.0 (Macintosh; Intel Mac OS X 10.9; rv:31.0) Gecko/20100101 Firefox/31.0')\n",
      "results: None\n",
      "(19, Timestamp('2018-11-10 08:15:31.796000'), 44, 'paid', None, None, 350, 'Waterloo-Cedar Falls, IA', 'Mozilla/5.0 (Macintosh; Intel Mac OS X 10.9; rv:31.0) Gecko/20100101 Firefox/31.0')\n",
      "results: None\n",
      "(20, Timestamp('2018-11-10 08:19:21.796000'), 44, 'paid', None, None, 350, 'Waterloo-Cedar Falls, IA', 'Mozilla/5.0 (Macintosh; Intel Mac OS X 10.9; rv:31.0) Gecko/20100101 Firefox/31.0')\n",
      "results: None\n",
      "(21, Timestamp('2018-11-10 08:20:13.796000'), 44, 'paid', None, None, 350, 'Waterloo-Cedar Falls, IA', 'Mozilla/5.0 (Macintosh; Intel Mac OS X 10.9; rv:31.0) Gecko/20100101 Firefox/31.0')\n",
      "results: None\n",
      "(22, Timestamp('2018-11-10 08:24:10.796000'), 44, 'paid', None, None, 350, 'Waterloo-Cedar Falls, IA', 'Mozilla/5.0 (Macintosh; Intel Mac OS X 10.9; rv:31.0) Gecko/20100101 Firefox/31.0')\n",
      "results: None\n",
      "(23, Timestamp('2018-11-10 08:26:32.796000'), 44, 'paid', None, None, 350, 'Waterloo-Cedar Falls, IA', 'Mozilla/5.0 (Macintosh; Intel Mac OS X 10.9; rv:31.0) Gecko/20100101 Firefox/31.0')\n",
      "results: None\n",
      "(24, Timestamp('2018-11-10 08:29:17.796000'), 44, 'paid', None, None, 350, 'Waterloo-Cedar Falls, IA', 'Mozilla/5.0 (Macintosh; Intel Mac OS X 10.9; rv:31.0) Gecko/20100101 Firefox/31.0')\n",
      "results: None\n",
      "(25, Timestamp('2018-11-10 08:32:15.796000'), 44, 'paid', None, None, 350, 'Waterloo-Cedar Falls, IA', 'Mozilla/5.0 (Macintosh; Intel Mac OS X 10.9; rv:31.0) Gecko/20100101 Firefox/31.0')\n",
      "results: None\n",
      "(26, Timestamp('2018-11-10 08:36:07.796000'), 44, 'paid', None, None, 350, 'Waterloo-Cedar Falls, IA', 'Mozilla/5.0 (Macintosh; Intel Mac OS X 10.9; rv:31.0) Gecko/20100101 Firefox/31.0')\n",
      "results: None\n",
      "(27, Timestamp('2018-11-10 08:40:36.796000'), 44, 'paid', None, None, 350, 'Waterloo-Cedar Falls, IA', 'Mozilla/5.0 (Macintosh; Intel Mac OS X 10.9; rv:31.0) Gecko/20100101 Firefox/31.0')\n",
      "results: None\n",
      "(28, Timestamp('2018-11-10 08:44:19.796000'), 44, 'paid', None, None, 350, 'Waterloo-Cedar Falls, IA', 'Mozilla/5.0 (Macintosh; Intel Mac OS X 10.9; rv:31.0) Gecko/20100101 Firefox/31.0')\n",
      "results: None\n",
      "(29, Timestamp('2018-11-10 08:48:15.796000'), 44, 'paid', None, None, 350, 'Waterloo-Cedar Falls, IA', 'Mozilla/5.0 (Macintosh; Intel Mac OS X 10.9; rv:31.0) Gecko/20100101 Firefox/31.0')\n",
      "results: None\n",
      "(30, Timestamp('2018-11-10 08:52:48.796000'), 44, 'paid', None, None, 350, 'Waterloo-Cedar Falls, IA', 'Mozilla/5.0 (Macintosh; Intel Mac OS X 10.9; rv:31.0) Gecko/20100101 Firefox/31.0')\n",
      "results: None\n",
      "(31, Timestamp('2018-11-10 08:56:11.796000'), 44, 'paid', None, None, 350, 'Waterloo-Cedar Falls, IA', 'Mozilla/5.0 (Macintosh; Intel Mac OS X 10.9; rv:31.0) Gecko/20100101 Firefox/31.0')\n",
      "results: None\n",
      "(32, Timestamp('2018-11-10 09:00:22.796000'), 44, 'paid', None, None, 350, 'Waterloo-Cedar Falls, IA', 'Mozilla/5.0 (Macintosh; Intel Mac OS X 10.9; rv:31.0) Gecko/20100101 Firefox/31.0')\n",
      "results: None\n",
      "(33, Timestamp('2018-11-10 09:05:58.796000'), 44, 'paid', None, None, 350, 'Waterloo-Cedar Falls, IA', 'Mozilla/5.0 (Macintosh; Intel Mac OS X 10.9; rv:31.0) Gecko/20100101 Firefox/31.0')\n",
      "results: None\n",
      "(34, Timestamp('2018-11-10 09:09:42.796000'), 44, 'paid', None, None, 350, 'Waterloo-Cedar Falls, IA', 'Mozilla/5.0 (Macintosh; Intel Mac OS X 10.9; rv:31.0) Gecko/20100101 Firefox/31.0')\n",
      "results: None\n",
      "(36, Timestamp('2018-11-10 09:13:21.796000'), 44, 'paid', None, None, 350, 'Waterloo-Cedar Falls, IA', 'Mozilla/5.0 (Macintosh; Intel Mac OS X 10.9; rv:31.0) Gecko/20100101 Firefox/31.0')\n",
      "results: None\n",
      "(37, Timestamp('2018-11-10 09:17:29.796000'), 44, 'paid', None, None, 350, 'Waterloo-Cedar Falls, IA', 'Mozilla/5.0 (Macintosh; Intel Mac OS X 10.9; rv:31.0) Gecko/20100101 Firefox/31.0')\n",
      "results: None\n",
      "(38, Timestamp('2018-11-10 09:21:00.796000'), 44, 'paid', None, None, 350, 'Waterloo-Cedar Falls, IA', 'Mozilla/5.0 (Macintosh; Intel Mac OS X 10.9; rv:31.0) Gecko/20100101 Firefox/31.0')\n",
      "results: None\n",
      "(39, Timestamp('2018-11-10 09:25:10.796000'), 44, 'paid', None, None, 350, 'Waterloo-Cedar Falls, IA', 'Mozilla/5.0 (Macintosh; Intel Mac OS X 10.9; rv:31.0) Gecko/20100101 Firefox/31.0')\n",
      "results: None\n",
      "(40, Timestamp('2018-11-10 09:29:42.796000'), 44, 'paid', None, None, 350, 'Waterloo-Cedar Falls, IA', 'Mozilla/5.0 (Macintosh; Intel Mac OS X 10.9; rv:31.0) Gecko/20100101 Firefox/31.0')\n",
      "results: None\n",
      "(41, Timestamp('2018-11-10 09:33:09.796000'), 44, 'paid', None, None, 350, 'Waterloo-Cedar Falls, IA', 'Mozilla/5.0 (Macintosh; Intel Mac OS X 10.9; rv:31.0) Gecko/20100101 Firefox/31.0')\n",
      "results: None\n",
      "(42, Timestamp('2018-11-10 09:37:46.796000'), 44, 'paid', None, None, 350, 'Waterloo-Cedar Falls, IA', 'Mozilla/5.0 (Macintosh; Intel Mac OS X 10.9; rv:31.0) Gecko/20100101 Firefox/31.0')\n",
      "results: None\n",
      "(43, Timestamp('2018-11-10 09:40:07.796000'), 44, 'paid', None, None, 350, 'Waterloo-Cedar Falls, IA', 'Mozilla/5.0 (Macintosh; Intel Mac OS X 10.9; rv:31.0) Gecko/20100101 Firefox/31.0')\n",
      "results: None\n",
      "(44, Timestamp('2018-11-10 09:43:31.796000'), 44, 'paid', None, None, 350, 'Waterloo-Cedar Falls, IA', 'Mozilla/5.0 (Macintosh; Intel Mac OS X 10.9; rv:31.0) Gecko/20100101 Firefox/31.0')\n",
      "results: None\n",
      "(45, Timestamp('2018-11-10 09:59:34.796000'), 37, 'free', None, None, 304, 'Salinas, CA', '\"Mozilla/5.0 (Macintosh; Intel Mac OS X 10_9_4) AppleWebKit/537.78.2 (KHTML, like Gecko) Version/7.0.6 Safari/537.78.2\"')\n",
      "results: None\n",
      "(46, Timestamp('2018-11-10 10:00:01.796000'), 37, 'free', None, None, 304, 'Salinas, CA', '\"Mozilla/5.0 (Macintosh; Intel Mac OS X 10_9_4) AppleWebKit/537.78.2 (KHTML, like Gecko) Version/7.0.6 Safari/537.78.2\"')\n",
      "results: None\n",
      "(47, Timestamp('2018-11-10 10:04:26.796000'), 37, 'free', None, None, 304, 'Salinas, CA', '\"Mozilla/5.0 (Macintosh; Intel Mac OS X 10_9_4) AppleWebKit/537.78.2 (KHTML, like Gecko) Version/7.0.6 Safari/537.78.2\"')\n",
      "results: None\n",
      "(48, Timestamp('2018-11-10 10:10:53.796000'), 37, 'free', None, None, 304, 'Salinas, CA', '\"Mozilla/5.0 (Macintosh; Intel Mac OS X 10_9_4) AppleWebKit/537.78.2 (KHTML, like Gecko) Version/7.0.6 Safari/537.78.2\"')\n",
      "results: None\n",
      "(49, Timestamp('2018-11-10 10:19:19.796000'), 37, 'free', None, None, 304, 'Salinas, CA', '\"Mozilla/5.0 (Macintosh; Intel Mac OS X 10_9_4) AppleWebKit/537.78.2 (KHTML, like Gecko) Version/7.0.6 Safari/537.78.2\"')\n",
      "results: None\n",
      "(50, Timestamp('2018-11-10 10:22:23.796000'), 37, 'free', None, None, 304, 'Salinas, CA', '\"Mozilla/5.0 (Macintosh; Intel Mac OS X 10_9_4) AppleWebKit/537.78.2 (KHTML, like Gecko) Version/7.0.6 Safari/537.78.2\"')\n",
      "results: None\n",
      "(51, Timestamp('2018-11-10 10:25:05.796000'), 37, 'free', None, None, 304, 'Salinas, CA', '\"Mozilla/5.0 (Macintosh; Intel Mac OS X 10_9_4) AppleWebKit/537.78.2 (KHTML, like Gecko) Version/7.0.6 Safari/537.78.2\"')\n",
      "results: None\n",
      "(52, Timestamp('2018-11-10 12:39:59.796000'), 66, 'free', None, None, 387, 'Harrisburg-Carlisle, PA', '\"Mozilla/5.0 (Macintosh; Intel Mac OS X 10_9_4) AppleWebKit/537.36 (KHTML, like Gecko) Chrome/36.0.1985.125 Safari/537.36\"')\n",
      "results: None\n",
      "(53, Timestamp('2018-11-10 12:44:10.796000'), 66, 'free', None, None, 387, 'Harrisburg-Carlisle, PA', '\"Mozilla/5.0 (Macintosh; Intel Mac OS X 10_9_4) AppleWebKit/537.36 (KHTML, like Gecko) Chrome/36.0.1985.125 Safari/537.36\"')\n",
      "results: None\n",
      "(55, Timestamp('2018-11-10 14:33:38.796000'), 26, 'free', None, None, 445, 'San Jose-Sunnyvale-Santa Clara, CA', '\"Mozilla/5.0 (X11; Linux x86_64) AppleWebKit/537.36 (KHTML, like Gecko) Ubuntu Chromium/36.0.1985.125 Chrome/36.0.1985.125 Safari/537.36\"')\n",
      "results: None\n",
      "(56, Timestamp('2018-11-10 14:47:00.796000'), 6, 'free', None, None, 444, 'Atlanta-Sandy Springs-Roswell, GA', 'Mozilla/5.0 (Windows NT 6.1; WOW64; rv:32.0) Gecko/20100101 Firefox/32.0')\n",
      "results: None\n",
      "(57, Timestamp('2018-11-10 14:50:41.796000'), 6, 'free', None, None, 444, 'Atlanta-Sandy Springs-Roswell, GA', 'Mozilla/5.0 (Windows NT 6.1; WOW64; rv:32.0) Gecko/20100101 Firefox/32.0')\n",
      "results: None\n",
      "(58, Timestamp('2018-11-10 15:15:59.796000'), 61, 'free', None, None, 384, 'Houston-The Woodlands-Sugar Land, TX', '\"Mozilla/5.0 (Macintosh; Intel Mac OS X 10_9_4) AppleWebKit/537.77.4 (KHTML, like Gecko) Version/7.0.5 Safari/537.77.4\"')\n",
      "results: None\n",
      "(59, Timestamp('2018-11-10 16:27:27.796000'), 69, 'free', None, None, 378, 'Philadelphia-Camden-Wilmington, PA-NJ-DE-MD', '\"Mozilla/5.0 (Macintosh; Intel Mac OS X 10_9_4) AppleWebKit/537.36 (KHTML, like Gecko) Chrome/36.0.1985.125 Safari/537.36\"')\n",
      "results: None\n",
      "(61, Timestamp('2018-11-10 17:31:56.796000'), 74, 'free', None, None, 246, 'Youngstown-Warren-Boardman, OH-PA', '\"Mozilla/5.0 (Windows NT 6.1; WOW64) AppleWebKit/537.36 (KHTML, like Gecko) Chrome/36.0.1985.143 Safari/537.36\"')\n",
      "results: None\n",
      "(63, Timestamp('2018-11-10 17:44:29.796000'), 7, 'free', None, None, 391, 'Chicago-Naperville-Elgin, IL-IN-WI', '\"Mozilla/5.0 (Macintosh; Intel Mac OS X 10_9_3) AppleWebKit/537.36 (KHTML, like Gecko) Chrome/36.0.1985.143 Safari/537.36\"')\n",
      "results: None\n",
      "(64, Timestamp('2018-11-10 17:47:53.796000'), 7, 'free', None, None, 391, 'Chicago-Naperville-Elgin, IL-IN-WI', '\"Mozilla/5.0 (Macintosh; Intel Mac OS X 10_9_3) AppleWebKit/537.36 (KHTML, like Gecko) Chrome/36.0.1985.143 Safari/537.36\"')\n",
      "results: None\n",
      "(65, Timestamp('2018-11-10 17:50:52.796000'), 7, 'free', None, None, 391, 'Chicago-Naperville-Elgin, IL-IN-WI', '\"Mozilla/5.0 (Macintosh; Intel Mac OS X 10_9_3) AppleWebKit/537.36 (KHTML, like Gecko) Chrome/36.0.1985.143 Safari/537.36\"')\n",
      "results: None\n",
      "(66, Timestamp('2018-11-10 18:15:27.796000'), 18, 'free', None, None, 432, 'San Diego-Carlsbad, CA', '\"Mozilla/5.0 (Macintosh; Intel Mac OS X 10_9_2) AppleWebKit/537.75.14 (KHTML, like Gecko) Version/7.0.3 Safari/537.75.14\"')\n",
      "results: None\n",
      "(67, Timestamp('2018-11-10 19:08:52.796000'), 36, 'paid', None, None, 439, 'Janesville-Beloit, WI', '\"Mozilla/5.0 (Windows NT 5.1) AppleWebKit/537.36 (KHTML, like Gecko) Chrome/36.0.1985.143 Safari/537.36\"')\n",
      "results: None\n",
      "(68, Timestamp('2018-11-10 19:10:48.796000'), 36, 'paid', None, None, 439, 'Janesville-Beloit, WI', '\"Mozilla/5.0 (Windows NT 5.1) AppleWebKit/537.36 (KHTML, like Gecko) Chrome/36.0.1985.143 Safari/537.36\"')\n",
      "results: None\n",
      "(69, Timestamp('2018-11-10 19:14:26.796000'), 36, 'paid', None, None, 439, 'Janesville-Beloit, WI', '\"Mozilla/5.0 (Windows NT 5.1) AppleWebKit/537.36 (KHTML, like Gecko) Chrome/36.0.1985.143 Safari/537.36\"')\n",
      "results: None\n",
      "(70, Timestamp('2018-11-10 19:30:33.796000'), 36, 'paid', None, None, 439, 'Janesville-Beloit, WI', '\"Mozilla/5.0 (Windows NT 5.1) AppleWebKit/537.36 (KHTML, like Gecko) Chrome/36.0.1985.143 Safari/537.36\"')\n",
      "results: None\n",
      "(71, Timestamp('2018-11-10 19:35:14.796000'), 36, 'paid', None, None, 439, 'Janesville-Beloit, WI', '\"Mozilla/5.0 (Windows NT 5.1) AppleWebKit/537.36 (KHTML, like Gecko) Chrome/36.0.1985.143 Safari/537.36\"')\n",
      "results: None\n",
      "(72, Timestamp('2018-11-10 19:39:08.796000'), 36, 'paid', None, None, 439, 'Janesville-Beloit, WI', '\"Mozilla/5.0 (Windows NT 5.1) AppleWebKit/537.36 (KHTML, like Gecko) Chrome/36.0.1985.143 Safari/537.36\"')\n",
      "results: None\n",
      "(73, Timestamp('2018-11-10 19:43:48.796000'), 36, 'paid', None, None, 439, 'Janesville-Beloit, WI', '\"Mozilla/5.0 (Windows NT 5.1) AppleWebKit/537.36 (KHTML, like Gecko) Chrome/36.0.1985.143 Safari/537.36\"')\n",
      "results: None\n",
      "(75, Timestamp('2018-11-10 19:47:29.796000'), 36, 'paid', None, None, 439, 'Janesville-Beloit, WI', '\"Mozilla/5.0 (Windows NT 5.1) AppleWebKit/537.36 (KHTML, like Gecko) Chrome/36.0.1985.143 Safari/537.36\"')\n",
      "results: None\n",
      "(76, Timestamp('2018-11-10 19:47:50.796000'), 52, 'free', None, None, 447, 'Houston-The Woodlands-Sugar Land, TX', 'Mozilla/5.0 (Windows NT 6.1; WOW64; rv:31.0) Gecko/20100101 Firefox/31.0')\n",
      "results: None\n",
      "(77, Timestamp('2018-11-10 19:51:32.796000'), 36, 'paid', None, None, 439, 'Janesville-Beloit, WI', '\"Mozilla/5.0 (Windows NT 5.1) AppleWebKit/537.36 (KHTML, like Gecko) Chrome/36.0.1985.143 Safari/537.36\"')\n",
      "results: None\n",
      "(78, Timestamp('2018-11-10 19:55:47.796000'), 36, 'paid', None, None, 439, 'Janesville-Beloit, WI', '\"Mozilla/5.0 (Windows NT 5.1) AppleWebKit/537.36 (KHTML, like Gecko) Chrome/36.0.1985.143 Safari/537.36\"')\n",
      "results: None\n",
      "(79, Timestamp('2018-11-10 19:58:39.796000'), 36, 'paid', None, None, 439, 'Janesville-Beloit, WI', '\"Mozilla/5.0 (Windows NT 5.1) AppleWebKit/537.36 (KHTML, like Gecko) Chrome/36.0.1985.143 Safari/537.36\"')\n",
      "results: None\n",
      "(80, Timestamp('2018-11-10 20:02:59.796000'), 36, 'paid', None, None, 439, 'Janesville-Beloit, WI', '\"Mozilla/5.0 (Windows NT 5.1) AppleWebKit/537.36 (KHTML, like Gecko) Chrome/36.0.1985.143 Safari/537.36\"')\n",
      "results: None\n",
      "(81, Timestamp('2018-11-10 20:06:17.796000'), 36, 'paid', None, None, 439, 'Janesville-Beloit, WI', '\"Mozilla/5.0 (Windows NT 5.1) AppleWebKit/537.36 (KHTML, like Gecko) Chrome/36.0.1985.143 Safari/537.36\"')\n",
      "results: None\n",
      "(82, Timestamp('2018-11-10 20:10:16.796000'), 36, 'paid', None, None, 439, 'Janesville-Beloit, WI', '\"Mozilla/5.0 (Windows NT 5.1) AppleWebKit/537.36 (KHTML, like Gecko) Chrome/36.0.1985.143 Safari/537.36\"')\n",
      "results: None\n",
      "(83, Timestamp('2018-11-10 20:13:25.796000'), 36, 'paid', None, None, 439, 'Janesville-Beloit, WI', '\"Mozilla/5.0 (Windows NT 5.1) AppleWebKit/537.36 (KHTML, like Gecko) Chrome/36.0.1985.143 Safari/537.36\"')\n",
      "results: None\n",
      "(84, Timestamp('2018-11-10 20:18:19.796000'), 36, 'paid', None, None, 439, 'Janesville-Beloit, WI', '\"Mozilla/5.0 (Windows NT 5.1) AppleWebKit/537.36 (KHTML, like Gecko) Chrome/36.0.1985.143 Safari/537.36\"')\n",
      "results: None\n",
      "(85, Timestamp('2018-11-10 20:22:56.796000'), 36, 'paid', None, None, 439, 'Janesville-Beloit, WI', '\"Mozilla/5.0 (Windows NT 5.1) AppleWebKit/537.36 (KHTML, like Gecko) Chrome/36.0.1985.143 Safari/537.36\"')\n",
      "results: None\n",
      "(86, Timestamp('2018-11-10 20:27:25.796000'), 36, 'paid', None, None, 439, 'Janesville-Beloit, WI', '\"Mozilla/5.0 (Windows NT 5.1) AppleWebKit/537.36 (KHTML, like Gecko) Chrome/36.0.1985.143 Safari/537.36\"')\n",
      "results: None\n",
      "(87, Timestamp('2018-11-10 20:32:13.796000'), 36, 'paid', None, None, 439, 'Janesville-Beloit, WI', '\"Mozilla/5.0 (Windows NT 5.1) AppleWebKit/537.36 (KHTML, like Gecko) Chrome/36.0.1985.143 Safari/537.36\"')\n",
      "results: None\n",
      "(88, Timestamp('2018-11-10 20:36:50.796000'), 36, 'paid', None, None, 439, 'Janesville-Beloit, WI', '\"Mozilla/5.0 (Windows NT 5.1) AppleWebKit/537.36 (KHTML, like Gecko) Chrome/36.0.1985.143 Safari/537.36\"')\n",
      "results: None\n",
      "(91, Timestamp('2018-11-10 21:16:58.796000'), 14, 'free', None, None, 440, 'Red Bluff, CA', 'Mozilla/5.0 (Windows NT 6.1; WOW64; rv:31.0) Gecko/20100101 Firefox/31.0')\n",
      "results: None\n",
      "(92, Timestamp('2018-11-10 21:39:12.796000'), 8, 'free', None, None, 333, 'Phoenix-Mesa-Scottsdale, AZ', '\"Mozilla/5.0 (Windows NT 6.1; WOW64) AppleWebKit/537.36 (KHTML, like Gecko) Chrome/35.0.1916.153 Safari/537.36\"')\n",
      "results: None\n",
      "(93, Timestamp('2018-11-10 21:41:50.796000'), 8, 'free', None, None, 333, 'Phoenix-Mesa-Scottsdale, AZ', '\"Mozilla/5.0 (Windows NT 6.1; WOW64) AppleWebKit/537.36 (KHTML, like Gecko) Chrome/35.0.1916.153 Safari/537.36\"')\n",
      "results: None\n",
      "(95, Timestamp('2018-11-10 21:52:30.796000'), 35, 'free', None, None, 396, 'St. Louis, MO-IL', '\"Mozilla/5.0 (X11; Linux x86_64) AppleWebKit/537.36 (KHTML, like Gecko) Chrome/37.0.2062.94 Safari/537.36\"')\n"
     ]
    }
   ],
   "source": [
    "for index, row in df.iterrows():\n",
    "\n",
    "    # get songid and artistid from song and artist tables\n",
    "    cur.execute(song_select, (row.song, row.artist, row.length))\n",
    "    results = cur.fetchone()\n",
    "    print(f'results: {results}')\n",
    "    if results:\n",
    "        songid, artistid = results\n",
    "    else:\n",
    "        songid, artistid = None, None\n",
    "\n",
    "    # insert songplay record\n",
    "    songplay_data = (index,\n",
    "                     pd.to_datetime(row.ts, unit='ms'),\n",
    "                     int(row.userId),\n",
    "                     row.level,\n",
    "                     songid,\n",
    "                     artistid,\n",
    "                     row.sessionId,\n",
    "                     row.location,\n",
    "                     row.userAgent,)\n",
    "    print(songplay_data)\n",
    "    cur.execute(songplay_table_insert, songplay_data)\n",
    "    conn.commit()"
   ]
  },
  {
   "cell_type": "markdown",
   "metadata": {},
   "source": [
    "Run `test.ipynb` to see if you've successfully added records to this table."
   ]
  },
  {
   "cell_type": "markdown",
   "metadata": {},
   "source": [
    "# Close Connection to Sparkify Database"
   ]
  },
  {
   "cell_type": "code",
   "execution_count": 22,
   "metadata": {
    "execution": {
     "iopub.execute_input": "2021-03-13T12:45:47.831832Z",
     "iopub.status.busy": "2021-03-13T12:45:47.831369Z",
     "iopub.status.idle": "2021-03-13T12:45:47.836469Z",
     "shell.execute_reply": "2021-03-13T12:45:47.835472Z",
     "shell.execute_reply.started": "2021-03-13T12:45:47.831760Z"
    }
   },
   "outputs": [],
   "source": [
    "conn.close()"
   ]
  },
  {
   "cell_type": "markdown",
   "metadata": {},
   "source": [
    "# Implement `etl.py`\n",
    "Use what you've completed in this notebook to implement `etl.py`."
   ]
  },
  {
   "cell_type": "code",
   "execution_count": null,
   "metadata": {},
   "outputs": [],
   "source": []
  }
 ],
 "metadata": {
  "kernelspec": {
   "display_name": "Python 3",
   "language": "python",
   "name": "python3"
  },
  "language_info": {
   "codemirror_mode": {
    "name": "ipython",
    "version": 3
   },
   "file_extension": ".py",
   "mimetype": "text/x-python",
   "name": "python",
   "nbconvert_exporter": "python",
   "pygments_lexer": "ipython3",
   "version": "3.9.2"
  }
 },
 "nbformat": 4,
 "nbformat_minor": 4
}
